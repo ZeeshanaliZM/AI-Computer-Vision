{
 "cells": [
  {
   "cell_type": "code",
   "execution_count": null,
   "metadata": {},
   "outputs": [],
   "source": [
    "import cv2\n",
    "import numpy as np\n",
    "import matplotlib.pyplot as plt\n",
    "\n",
    "img = cv2.imread('Scanner 5.jpg')\n",
    "b,g,r = cv2.split(img)\n",
    "ret,bw_img = cv2.threshold(r, 254, 255, cv2.THRESH_BINARY)\n",
    "kernel = np.ones((2,1), np.uint8)  # note this is a horizontal kernel\n",
    "cnts, hierarchy = cv2.findContours(image=bw_img, mode=cv2.RETR_TREE, method=cv2.CHAIN_APPROX_SIMPLE)\n",
    "\n",
    "scale_percent = 20 # percent of original size\n",
    "width = int(bw_img.shape[1] * scale_percent / 200)\n",
    "height = int(bw_img.shape[0] * scale_percent / 200)\n",
    "dim = (width, height)\n",
    "resized = cv2.resize(img,dim, interpolation = cv2.INTER_AREA)\n",
    "cv2.imshow('Resized Image',resized)\n",
    "cv2.waitKey(0)\n",
    "cv2.destroyAllWindows()"
   ]
  },
  {
   "cell_type": "code",
   "execution_count": null,
   "metadata": {},
   "outputs": [],
   "source": [
    "import serial #Serial imported for Serial communication\n",
    "import time #Required to use delay functions\n",
    "ArduinoSerial = serial.Serial('COM3',9600) #Create Serial port object called arduinoSerialData\n",
    "time.sleep(2) #wait for 2 secounds for the communication to get established\n",
    "print (\"Enter 1 to turn ON LED and 0 to turn OFF LED\")\n",
    "\n",
    "while 1: #Do this forever\n",
    "    var = input() #get input from user\n",
    "\n",
    "    if (var == '1'): #if the value is 1\n",
    "        ArduinoSerial.write(b'1') #send 1\n",
    "        print (\"LED turned ON\")\n",
    "        time.sleep(1)\n",
    "\n",
    "    if (var == '0'): #if the value is 0\n",
    "        ArduinoSerial.write(b'0') #send 0\n",
    "        print (\"LED turned OFF\")\n",
    "        time.sleep(1)"
   ]
  },
  {
   "cell_type": "code",
   "execution_count": 9,
   "metadata": {},
   "outputs": [],
   "source": [
    "import cv2\n",
    "import matplotlib.pyplot as plt\n",
    "import serial\n",
    "import time\n",
    "captureFlag = False\n",
    "capture = cv2.VideoCapture(0)\n",
    "while(bool(input('Enter a value to begin'))==False):\n",
    "    pass\n",
    "while(captureFlag==False):\n",
    "    pass"
   ]
  },
  {
   "cell_type": "code",
   "execution_count": null,
   "metadata": {},
   "outputs": [],
   "source": [
    "img1_gray = cv2.cvtColor(img1,cv2.COLOR_BGR2GRAY)\n",
    "img2_gray = cv2.cvtColor(img2,cv2.COLOR_BGR2GRAY)\n",
    "stereo = cv2.StereoBM_create(16,5)\n",
    "disparity = stereo.compute(img1_gray,img2_gray)\n",
    "plt.imshow(disparity)"
   ]
  }
 ],
 "metadata": {
  "kernelspec": {
   "display_name": "Python 3",
   "language": "python",
   "name": "python3"
  },
  "language_info": {
   "codemirror_mode": {
    "name": "ipython",
    "version": 3
   },
   "file_extension": ".py",
   "mimetype": "text/x-python",
   "name": "python",
   "nbconvert_exporter": "python",
   "pygments_lexer": "ipython3",
   "version": "3.9.7"
  },
  "orig_nbformat": 4
 },
 "nbformat": 4,
 "nbformat_minor": 2
}
